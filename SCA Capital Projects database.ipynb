{
 "cells": [
  {
   "cell_type": "code",
   "execution_count": 1,
   "metadata": {},
   "outputs": [],
   "source": [
    "import pandas as pd #data processing for csv files\n",
    "import geopandas as gpd #data processing for shapefiles "
   ]
  },
  {
   "cell_type": "code",
   "execution_count": 14,
   "metadata": {},
   "outputs": [],
   "source": [
    "#download and read all the files\n",
    "df_prjct_schl = pd.read_csv('https://data.cityofnewyork.us/api/views/a94k-kjys/rows.csv?accessType=DOWNLOAD')\n",
    "df_prjct_loc = pd.read_csv('https://data.cityofnewyork.us/api/views/tesz-9suw/rows.csv?accessType=DOWNLOAD')\n",
    "df_schl_brgh = pd.read_csv('https://data.cityofnewyork.us/api/views/esmb-8zkm/rows.csv?accessType=DOWNLOAD')\n",
    "shp_schl = gpd.read_file(\"https://data.cityofnewyork.us/api/views/jfju-ynrr/files/IjLvNcAZDM01muXoNu_-a2ggw13oNeeV4xH-rPS_Dig?filename=Public_School_Locations.zip\")"
   ]
  },
  {
   "cell_type": "code",
   "execution_count": 5,
   "metadata": {},
   "outputs": [
    {
     "data": {
      "text/plain": [
       "Index(['Sited', 'Leased', 'District', 'Project #', 'School', 'Boro',\n",
       "       'Forecast Capacity', 'Design Start', 'Construction Start',\n",
       "       'Actual Est. Comp', 'Total Est. Comp', 'Previous Appropriations',\n",
       "       'Funding Req'D FY 20-24', 'Needed to Complete'],\n",
       "      dtype='object')"
      ]
     },
     "execution_count": 5,
     "metadata": {},
     "output_type": "execute_result"
    }
   ],
   "source": [
    "#display the column names of 'Capacity projects by school'\n",
    "df_prjct_schl.columns"
   ]
  },
  {
   "cell_type": "code",
   "execution_count": 7,
   "metadata": {},
   "outputs": [
    {
     "data": {
      "text/plain": [
       "Index(['District', 'Borough', 'Building ID', 'School', 'Project #',\n",
       "       'Description', 'FY', 'Total'],\n",
       "      dtype='object')"
      ]
     },
     "execution_count": 7,
     "metadata": {},
     "output_type": "execute_result"
    }
   ],
   "source": [
    "#display the column names of 'Capacity project site location'\n",
    "df_schl_brgh.columns"
   ]
  },
  {
   "cell_type": "code",
   "execution_count": 8,
   "metadata": {},
   "outputs": [],
   "source": [
    "#Create a joined table for capacity projects\n",
    "df_capacity = pd.merge(df_prjct_schl, df_prjct_loc, how='left', left_on='School', right_on='SCHOOL')"
   ]
  },
  {
   "cell_type": "code",
   "execution_count": 9,
   "metadata": {},
   "outputs": [],
   "source": [
    "#drop duplicated columns and the empty column'Boro'\n",
    "df_capacity = df_capacity.drop(columns = ['Boro', 'SCHOOL','DISTRICT'])\n",
    "\n",
    "#rename the column names to a consistent format\n",
    "df_capacity.rename(columns={'BOROUGH':'Borough','LOCATION':'Location'}, inplace=True)"
   ]
  },
  {
   "cell_type": "code",
   "execution_count": 10,
   "metadata": {},
   "outputs": [],
   "source": [
    "#merge the tables of capacity projects and capital projects\n",
    "df_prjct = pd.concat([df_schl_brgh,df_capacity], axis=0, join='outer',sort=False)"
   ]
  },
  {
   "cell_type": "code",
   "execution_count": 11,
   "metadata": {},
   "outputs": [],
   "source": [
    "#adding the point geometry to each project\n",
    "shp_prjct = pd.merge(shp_schl[['SCHOOLNAME','ADDRESS','geometry']], \n",
    "                     df_prjct, how='right',left_on = 'SCHOOLNAME', right_on = 'School')"
   ]
  },
  {
   "cell_type": "code",
   "execution_count": 12,
   "metadata": {},
   "outputs": [],
   "source": [
    "#drop duplicated columns and rename column names to a consistent format\n",
    "shp_prjct = shp_prjct.drop(columns = ['SCHOOLNAME']).rename(columns={'ADDRESS':'Address'})"
   ]
  },
  {
   "cell_type": "code",
   "execution_count": 13,
   "metadata": {},
   "outputs": [
    {
     "data": {
      "text/html": [
       "<div>\n",
       "<style scoped>\n",
       "    .dataframe tbody tr th:only-of-type {\n",
       "        vertical-align: middle;\n",
       "    }\n",
       "\n",
       "    .dataframe tbody tr th {\n",
       "        vertical-align: top;\n",
       "    }\n",
       "\n",
       "    .dataframe thead th {\n",
       "        text-align: right;\n",
       "    }\n",
       "</style>\n",
       "<table border=\"1\" class=\"dataframe\">\n",
       "  <thead>\n",
       "    <tr style=\"text-align: right;\">\n",
       "      <th></th>\n",
       "      <th>Address</th>\n",
       "      <th>geometry</th>\n",
       "      <th>District</th>\n",
       "      <th>Borough</th>\n",
       "      <th>Building ID</th>\n",
       "      <th>School</th>\n",
       "      <th>Project #</th>\n",
       "      <th>Description</th>\n",
       "      <th>FY</th>\n",
       "      <th>Total</th>\n",
       "      <th>...</th>\n",
       "      <th>Location</th>\n",
       "      <th>Postcode</th>\n",
       "      <th>Latitude</th>\n",
       "      <th>Longitude</th>\n",
       "      <th>Community Board</th>\n",
       "      <th>Council District</th>\n",
       "      <th>Census Tract</th>\n",
       "      <th>BIN</th>\n",
       "      <th>BBL</th>\n",
       "      <th>NTA</th>\n",
       "    </tr>\n",
       "  </thead>\n",
       "  <tbody>\n",
       "    <tr>\n",
       "      <th>0</th>\n",
       "      <td>601 OCEANVIEW AVENUE</td>\n",
       "      <td>POINT (994847.1202502615 150547.2376673446)</td>\n",
       "      <td>21</td>\n",
       "      <td>Brooklyn</td>\n",
       "      <td>K253</td>\n",
       "      <td>P.S. 253</td>\n",
       "      <td>DSF0000912069</td>\n",
       "      <td>State of Good Repair - System Replacements - E...</td>\n",
       "      <td>2020.0</td>\n",
       "      <td>300000.0</td>\n",
       "      <td>...</td>\n",
       "      <td>NaN</td>\n",
       "      <td>NaN</td>\n",
       "      <td>NaN</td>\n",
       "      <td>NaN</td>\n",
       "      <td>NaN</td>\n",
       "      <td>NaN</td>\n",
       "      <td>NaN</td>\n",
       "      <td>NaN</td>\n",
       "      <td>NaN</td>\n",
       "      <td>NaN</td>\n",
       "    </tr>\n",
       "    <tr>\n",
       "      <th>1</th>\n",
       "      <td>1307 CENTRAL AVENUE</td>\n",
       "      <td>POINT (1053949.276883927 160637.15219117)</td>\n",
       "      <td>21</td>\n",
       "      <td>Brooklyn</td>\n",
       "      <td>K253</td>\n",
       "      <td>P.S. 253</td>\n",
       "      <td>DSF0000912069</td>\n",
       "      <td>State of Good Repair - System Replacements - E...</td>\n",
       "      <td>2020.0</td>\n",
       "      <td>300000.0</td>\n",
       "      <td>...</td>\n",
       "      <td>NaN</td>\n",
       "      <td>NaN</td>\n",
       "      <td>NaN</td>\n",
       "      <td>NaN</td>\n",
       "      <td>NaN</td>\n",
       "      <td>NaN</td>\n",
       "      <td>NaN</td>\n",
       "      <td>NaN</td>\n",
       "      <td>NaN</td>\n",
       "      <td>NaN</td>\n",
       "    </tr>\n",
       "    <tr>\n",
       "      <th>2</th>\n",
       "      <td>360 KEAP STREET</td>\n",
       "      <td>POINT (996991.9747995249 197833.0000531077)</td>\n",
       "      <td>14</td>\n",
       "      <td>Brooklyn</td>\n",
       "      <td>K319</td>\n",
       "      <td>P.S. 319</td>\n",
       "      <td>DSF0000895802</td>\n",
       "      <td>State of Good Repair - System Replacements - R...</td>\n",
       "      <td>2020.0</td>\n",
       "      <td>1357439.0</td>\n",
       "      <td>...</td>\n",
       "      <td>NaN</td>\n",
       "      <td>NaN</td>\n",
       "      <td>NaN</td>\n",
       "      <td>NaN</td>\n",
       "      <td>NaN</td>\n",
       "      <td>NaN</td>\n",
       "      <td>NaN</td>\n",
       "      <td>NaN</td>\n",
       "      <td>NaN</td>\n",
       "      <td>NaN</td>\n",
       "    </tr>\n",
       "    <tr>\n",
       "      <th>3</th>\n",
       "      <td>360 KEAP STREET</td>\n",
       "      <td>POINT (996991.9747995249 197833.0000531077)</td>\n",
       "      <td>14</td>\n",
       "      <td>Brooklyn</td>\n",
       "      <td>K319</td>\n",
       "      <td>P.S. 319</td>\n",
       "      <td>DSF0000895803</td>\n",
       "      <td>State of Good Repair - System Replacements - W...</td>\n",
       "      <td>2020.0</td>\n",
       "      <td>1314643.0</td>\n",
       "      <td>...</td>\n",
       "      <td>NaN</td>\n",
       "      <td>NaN</td>\n",
       "      <td>NaN</td>\n",
       "      <td>NaN</td>\n",
       "      <td>NaN</td>\n",
       "      <td>NaN</td>\n",
       "      <td>NaN</td>\n",
       "      <td>NaN</td>\n",
       "      <td>NaN</td>\n",
       "      <td>NaN</td>\n",
       "    </tr>\n",
       "    <tr>\n",
       "      <th>4</th>\n",
       "      <td>334 GREENWICH STREET</td>\n",
       "      <td>POINT (981231.783227806 200964.4655709098)</td>\n",
       "      <td>30</td>\n",
       "      <td>Queens</td>\n",
       "      <td>Q150</td>\n",
       "      <td>P.S. 150</td>\n",
       "      <td>DSF0000902816</td>\n",
       "      <td>State of Good Repair - System Replacements - R...</td>\n",
       "      <td>2020.0</td>\n",
       "      <td>2389992.0</td>\n",
       "      <td>...</td>\n",
       "      <td>NaN</td>\n",
       "      <td>NaN</td>\n",
       "      <td>NaN</td>\n",
       "      <td>NaN</td>\n",
       "      <td>NaN</td>\n",
       "      <td>NaN</td>\n",
       "      <td>NaN</td>\n",
       "      <td>NaN</td>\n",
       "      <td>NaN</td>\n",
       "      <td>NaN</td>\n",
       "    </tr>\n",
       "  </tbody>\n",
       "</table>\n",
       "<p>5 rows × 30 columns</p>\n",
       "</div>"
      ],
      "text/plain": [
       "                Address                                     geometry District  \\\n",
       "0  601 OCEANVIEW AVENUE  POINT (994847.1202502615 150547.2376673446)       21   \n",
       "1   1307 CENTRAL AVENUE    POINT (1053949.276883927 160637.15219117)       21   \n",
       "2       360 KEAP STREET  POINT (996991.9747995249 197833.0000531077)       14   \n",
       "3       360 KEAP STREET  POINT (996991.9747995249 197833.0000531077)       14   \n",
       "4  334 GREENWICH STREET   POINT (981231.783227806 200964.4655709098)       30   \n",
       "\n",
       "    Borough Building ID    School      Project #  \\\n",
       "0  Brooklyn        K253  P.S. 253  DSF0000912069   \n",
       "1  Brooklyn        K253  P.S. 253  DSF0000912069   \n",
       "2  Brooklyn        K319  P.S. 319  DSF0000895802   \n",
       "3  Brooklyn        K319  P.S. 319  DSF0000895803   \n",
       "4    Queens        Q150  P.S. 150  DSF0000902816   \n",
       "\n",
       "                                         Description      FY      Total ...   \\\n",
       "0  State of Good Repair - System Replacements - E...  2020.0   300000.0 ...    \n",
       "1  State of Good Repair - System Replacements - E...  2020.0   300000.0 ...    \n",
       "2  State of Good Repair - System Replacements - R...  2020.0  1357439.0 ...    \n",
       "3  State of Good Repair - System Replacements - W...  2020.0  1314643.0 ...    \n",
       "4  State of Good Repair - System Replacements - R...  2020.0  2389992.0 ...    \n",
       "\n",
       "  Location Postcode  Latitude Longitude Community Board Council District   \\\n",
       "0      NaN      NaN       NaN       NaN             NaN               NaN   \n",
       "1      NaN      NaN       NaN       NaN             NaN               NaN   \n",
       "2      NaN      NaN       NaN       NaN             NaN               NaN   \n",
       "3      NaN      NaN       NaN       NaN             NaN               NaN   \n",
       "4      NaN      NaN       NaN       NaN             NaN               NaN   \n",
       "\n",
       "   Census Tract  BIN  BBL  NTA  \n",
       "0           NaN  NaN  NaN  NaN  \n",
       "1           NaN  NaN  NaN  NaN  \n",
       "2           NaN  NaN  NaN  NaN  \n",
       "3           NaN  NaN  NaN  NaN  \n",
       "4           NaN  NaN  NaN  NaN  \n",
       "\n",
       "[5 rows x 30 columns]"
      ]
     },
     "execution_count": 13,
     "metadata": {},
     "output_type": "execute_result"
    }
   ],
   "source": [
    "#display the final joined table\n",
    "shp_prjct.head()"
   ]
  },
  {
   "cell_type": "code",
   "execution_count": 16,
   "metadata": {},
   "outputs": [
    {
     "name": "stdout",
     "output_type": "stream",
     "text": [
      "<class 'geopandas.geodataframe.GeoDataFrame'>\n",
      "Int64Index: 392 entries, 0 to 391\n",
      "Data columns (total 30 columns):\n",
      "Address                    30 non-null object\n",
      "geometry                   30 non-null object\n",
      "District                   392 non-null object\n",
      "Borough                    316 non-null object\n",
      "Building ID                304 non-null object\n",
      "School                     392 non-null object\n",
      "Project #                  392 non-null object\n",
      "Description                304 non-null object\n",
      "FY                         304 non-null float64\n",
      "Total                      304 non-null float64\n",
      "Sited                      16 non-null object\n",
      "Leased                     22 non-null object\n",
      "Forecast Capacity          88 non-null float64\n",
      "Design Start               88 non-null object\n",
      "Construction Start         88 non-null object\n",
      "Actual Est. Comp           88 non-null object\n",
      "Total Est. Comp            88 non-null float64\n",
      "Previous Appropriations    88 non-null float64\n",
      "Funding Req'D FY 20-24     88 non-null float64\n",
      "Needed to Complete         88 non-null float64\n",
      "Location                   12 non-null object\n",
      "Postcode                   8 non-null float64\n",
      "Latitude                   8 non-null float64\n",
      "Longitude                  8 non-null float64\n",
      "Community Board            8 non-null float64\n",
      "Council District           8 non-null float64\n",
      "Census Tract               8 non-null float64\n",
      "BIN                        7 non-null float64\n",
      "BBL                        7 non-null float64\n",
      "NTA                        8 non-null object\n",
      "dtypes: float64(15), object(15)\n",
      "memory usage: 94.9+ KB\n"
     ]
    }
   ],
   "source": [
    "shp_prjct.info()"
   ]
  },
  {
   "cell_type": "code",
   "execution_count": 17,
   "metadata": {},
   "outputs": [],
   "source": [
    "#generate the output tables\n",
    "df_capacity.to_csv('capacity_projects.csv')\n",
    "df_schl_brgh.to_csv('capital_projects.csv')"
   ]
  },
  {
   "cell_type": "code",
   "execution_count": 18,
   "metadata": {},
   "outputs": [
    {
     "ename": "AttributeError",
     "evalue": "'float' object has no attribute '__geo_interface__'",
     "output_type": "error",
     "traceback": [
      "\u001b[0;31m---------------------------------------------------------------------------\u001b[0m",
      "\u001b[0;31mAttributeError\u001b[0m                            Traceback (most recent call last)",
      "\u001b[0;32m<ipython-input-18-0305658fd358>\u001b[0m in \u001b[0;36m<module>\u001b[0;34m\u001b[0m\n\u001b[0;32m----> 1\u001b[0;31m \u001b[0mshp_prjct\u001b[0m\u001b[0;34m.\u001b[0m\u001b[0mto_file\u001b[0m\u001b[0;34m(\u001b[0m\u001b[0;34m'capacity_capital_projects_location.shp'\u001b[0m\u001b[0;34m,\u001b[0m \u001b[0mdriver\u001b[0m\u001b[0;34m=\u001b[0m\u001b[0;34m'ESRI Shapefile'\u001b[0m\u001b[0;34m)\u001b[0m\u001b[0;34m\u001b[0m\u001b[0;34m\u001b[0m\u001b[0m\n\u001b[0m",
      "\u001b[0;32m/Applications/anaconda3/lib/python3.7/site-packages/geopandas/geodataframe.py\u001b[0m in \u001b[0;36mto_file\u001b[0;34m(self, filename, driver, schema, **kwargs)\u001b[0m\n\u001b[1;32m    411\u001b[0m         \"\"\"\n\u001b[1;32m    412\u001b[0m         \u001b[0;32mfrom\u001b[0m \u001b[0mgeopandas\u001b[0m\u001b[0;34m.\u001b[0m\u001b[0mio\u001b[0m\u001b[0;34m.\u001b[0m\u001b[0mfile\u001b[0m \u001b[0;32mimport\u001b[0m \u001b[0mto_file\u001b[0m\u001b[0;34m\u001b[0m\u001b[0;34m\u001b[0m\u001b[0m\n\u001b[0;32m--> 413\u001b[0;31m         \u001b[0mto_file\u001b[0m\u001b[0;34m(\u001b[0m\u001b[0mself\u001b[0m\u001b[0;34m,\u001b[0m \u001b[0mfilename\u001b[0m\u001b[0;34m,\u001b[0m \u001b[0mdriver\u001b[0m\u001b[0;34m,\u001b[0m \u001b[0mschema\u001b[0m\u001b[0;34m,\u001b[0m \u001b[0;34m**\u001b[0m\u001b[0mkwargs\u001b[0m\u001b[0;34m)\u001b[0m\u001b[0;34m\u001b[0m\u001b[0;34m\u001b[0m\u001b[0m\n\u001b[0m\u001b[1;32m    414\u001b[0m \u001b[0;34m\u001b[0m\u001b[0m\n\u001b[1;32m    415\u001b[0m     \u001b[0;32mdef\u001b[0m \u001b[0mto_crs\u001b[0m\u001b[0;34m(\u001b[0m\u001b[0mself\u001b[0m\u001b[0;34m,\u001b[0m \u001b[0mcrs\u001b[0m\u001b[0;34m=\u001b[0m\u001b[0;32mNone\u001b[0m\u001b[0;34m,\u001b[0m \u001b[0mepsg\u001b[0m\u001b[0;34m=\u001b[0m\u001b[0;32mNone\u001b[0m\u001b[0;34m,\u001b[0m \u001b[0minplace\u001b[0m\u001b[0;34m=\u001b[0m\u001b[0;32mFalse\u001b[0m\u001b[0;34m)\u001b[0m\u001b[0;34m:\u001b[0m\u001b[0;34m\u001b[0m\u001b[0;34m\u001b[0m\u001b[0m\n",
      "\u001b[0;32m/Applications/anaconda3/lib/python3.7/site-packages/geopandas/io/file.py\u001b[0m in \u001b[0;36mto_file\u001b[0;34m(df, filename, driver, schema, **kwargs)\u001b[0m\n\u001b[1;32m    115\u001b[0m         with fiona.open(filename, 'w', driver=driver, crs=df.crs,\n\u001b[1;32m    116\u001b[0m                         schema=schema, **kwargs) as colxn:\n\u001b[0;32m--> 117\u001b[0;31m             \u001b[0mcolxn\u001b[0m\u001b[0;34m.\u001b[0m\u001b[0mwriterecords\u001b[0m\u001b[0;34m(\u001b[0m\u001b[0mdf\u001b[0m\u001b[0;34m.\u001b[0m\u001b[0miterfeatures\u001b[0m\u001b[0;34m(\u001b[0m\u001b[0;34m)\u001b[0m\u001b[0;34m)\u001b[0m\u001b[0;34m\u001b[0m\u001b[0;34m\u001b[0m\u001b[0m\n\u001b[0m\u001b[1;32m    118\u001b[0m \u001b[0;34m\u001b[0m\u001b[0m\n\u001b[1;32m    119\u001b[0m \u001b[0;34m\u001b[0m\u001b[0m\n",
      "\u001b[0;32m/Applications/anaconda3/lib/python3.7/site-packages/fiona/collection.py\u001b[0m in \u001b[0;36mwriterecords\u001b[0;34m(self, records)\u001b[0m\n\u001b[1;32m    345\u001b[0m         \u001b[0;32mif\u001b[0m \u001b[0mself\u001b[0m\u001b[0;34m.\u001b[0m\u001b[0mmode\u001b[0m \u001b[0;32mnot\u001b[0m \u001b[0;32min\u001b[0m \u001b[0;34m(\u001b[0m\u001b[0;34m'a'\u001b[0m\u001b[0;34m,\u001b[0m \u001b[0;34m'w'\u001b[0m\u001b[0;34m)\u001b[0m\u001b[0;34m:\u001b[0m\u001b[0;34m\u001b[0m\u001b[0;34m\u001b[0m\u001b[0m\n\u001b[1;32m    346\u001b[0m             \u001b[0;32mraise\u001b[0m \u001b[0mIOError\u001b[0m\u001b[0;34m(\u001b[0m\u001b[0;34m\"collection not open for writing\"\u001b[0m\u001b[0;34m)\u001b[0m\u001b[0;34m\u001b[0m\u001b[0;34m\u001b[0m\u001b[0m\n\u001b[0;32m--> 347\u001b[0;31m         \u001b[0mself\u001b[0m\u001b[0;34m.\u001b[0m\u001b[0msession\u001b[0m\u001b[0;34m.\u001b[0m\u001b[0mwriterecs\u001b[0m\u001b[0;34m(\u001b[0m\u001b[0mrecords\u001b[0m\u001b[0;34m,\u001b[0m \u001b[0mself\u001b[0m\u001b[0;34m)\u001b[0m\u001b[0;34m\u001b[0m\u001b[0;34m\u001b[0m\u001b[0m\n\u001b[0m\u001b[1;32m    348\u001b[0m         \u001b[0mself\u001b[0m\u001b[0;34m.\u001b[0m\u001b[0m_len\u001b[0m \u001b[0;34m=\u001b[0m \u001b[0mself\u001b[0m\u001b[0;34m.\u001b[0m\u001b[0msession\u001b[0m\u001b[0;34m.\u001b[0m\u001b[0mget_length\u001b[0m\u001b[0;34m(\u001b[0m\u001b[0;34m)\u001b[0m\u001b[0;34m\u001b[0m\u001b[0;34m\u001b[0m\u001b[0m\n\u001b[1;32m    349\u001b[0m         \u001b[0mself\u001b[0m\u001b[0;34m.\u001b[0m\u001b[0m_bounds\u001b[0m \u001b[0;34m=\u001b[0m \u001b[0mself\u001b[0m\u001b[0;34m.\u001b[0m\u001b[0msession\u001b[0m\u001b[0;34m.\u001b[0m\u001b[0mget_extent\u001b[0m\u001b[0;34m(\u001b[0m\u001b[0;34m)\u001b[0m\u001b[0;34m\u001b[0m\u001b[0;34m\u001b[0m\u001b[0m\n",
      "\u001b[0;32mfiona/ogrext.pyx\u001b[0m in \u001b[0;36mfiona.ogrext.WritingSession.writerecs\u001b[0;34m()\u001b[0m\n",
      "\u001b[0;32m/Applications/anaconda3/lib/python3.7/site-packages/geopandas/geodataframe.py\u001b[0m in \u001b[0;36miterfeatures\u001b[0;34m(self, na, show_bbox)\u001b[0m\n\u001b[1;32m    361\u001b[0m                 \u001b[0;34m'properties'\u001b[0m\u001b[0;34m:\u001b[0m \u001b[0mproperties\u001b[0m\u001b[0;34m,\u001b[0m\u001b[0;34m\u001b[0m\u001b[0;34m\u001b[0m\u001b[0m\n\u001b[1;32m    362\u001b[0m                 \u001b[0;34m'geometry'\u001b[0m\u001b[0;34m:\u001b[0m \u001b[0mmapping\u001b[0m\u001b[0;34m(\u001b[0m\u001b[0mrow\u001b[0m\u001b[0;34m[\u001b[0m\u001b[0mself\u001b[0m\u001b[0;34m.\u001b[0m\u001b[0m_geometry_column_name\u001b[0m\u001b[0;34m]\u001b[0m\u001b[0;34m)\u001b[0m\u001b[0;34m\u001b[0m\u001b[0;34m\u001b[0m\u001b[0m\n\u001b[0;32m--> 363\u001b[0;31m                             \u001b[0;32mif\u001b[0m \u001b[0mrow\u001b[0m\u001b[0;34m[\u001b[0m\u001b[0mself\u001b[0m\u001b[0;34m.\u001b[0m\u001b[0m_geometry_column_name\u001b[0m\u001b[0;34m]\u001b[0m \u001b[0;32melse\u001b[0m \u001b[0;32mNone\u001b[0m\u001b[0;34m\u001b[0m\u001b[0;34m\u001b[0m\u001b[0m\n\u001b[0m\u001b[1;32m    364\u001b[0m             }\n\u001b[1;32m    365\u001b[0m \u001b[0;34m\u001b[0m\u001b[0m\n",
      "\u001b[0;32m/Applications/anaconda3/lib/python3.7/site-packages/shapely/geometry/geo.py\u001b[0m in \u001b[0;36mmapping\u001b[0;34m(ob)\u001b[0m\n\u001b[1;32m     80\u001b[0m \u001b[0;32mdef\u001b[0m \u001b[0mmapping\u001b[0m\u001b[0;34m(\u001b[0m\u001b[0mob\u001b[0m\u001b[0;34m)\u001b[0m\u001b[0;34m:\u001b[0m\u001b[0;34m\u001b[0m\u001b[0;34m\u001b[0m\u001b[0m\n\u001b[1;32m     81\u001b[0m     \u001b[0;34m\"\"\"Returns a GeoJSON-like mapping\"\"\"\u001b[0m\u001b[0;34m\u001b[0m\u001b[0;34m\u001b[0m\u001b[0m\n\u001b[0;32m---> 82\u001b[0;31m     \u001b[0;32mreturn\u001b[0m \u001b[0mob\u001b[0m\u001b[0;34m.\u001b[0m\u001b[0m__geo_interface__\u001b[0m\u001b[0;34m\u001b[0m\u001b[0;34m\u001b[0m\u001b[0m\n\u001b[0m",
      "\u001b[0;31mAttributeError\u001b[0m: 'float' object has no attribute '__geo_interface__'"
     ]
    }
   ],
   "source": [
    "shp_prjct.to_file('capacity_capital_projects_location.shp', driver='ESRI Shapefile')"
   ]
  },
  {
   "cell_type": "code",
   "execution_count": null,
   "metadata": {},
   "outputs": [],
   "source": []
  }
 ],
 "metadata": {
  "kernelspec": {
   "display_name": "Python 3",
   "language": "python",
   "name": "python3"
  },
  "language_info": {
   "codemirror_mode": {
    "name": "ipython",
    "version": 3
   },
   "file_extension": ".py",
   "mimetype": "text/x-python",
   "name": "python",
   "nbconvert_exporter": "python",
   "pygments_lexer": "ipython3",
   "version": "3.7.1"
  }
 },
 "nbformat": 4,
 "nbformat_minor": 2
}
